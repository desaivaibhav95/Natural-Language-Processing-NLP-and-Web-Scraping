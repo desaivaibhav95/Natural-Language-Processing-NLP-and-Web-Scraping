{
 "cells": [
  {
   "cell_type": "markdown",
   "metadata": {
    "papermill": {
     "duration": 0.028714,
     "end_time": "2020-12-09T09:54:22.174858",
     "exception": false,
     "start_time": "2020-12-09T09:54:22.146144",
     "status": "completed"
    },
    "tags": []
   },
   "source": [
    "Most work in this notebook has been picked up Sudalai Rajkumar's kernels on [embeddings](https://www.kaggle.com/sudalairajkumar/a-look-at-different-embeddings) and [exploration](https://www.kaggle.com/sudalairajkumar/simple-exploration-notebook-qiqc). I have just tried to make them more beginner friendly. I'll be putting more detailed kernels around preprocessing on the same problem, picking up ideas from some other kernels on this problem and some of my own. \n",
    "\n",
    "Happy Learning!!"
   ]
  },
  {
   "cell_type": "markdown",
   "metadata": {
    "papermill": {
     "duration": 0.026324,
     "end_time": "2020-12-09T09:54:22.227473",
     "exception": false,
     "start_time": "2020-12-09T09:54:22.201149",
     "status": "completed"
    },
    "tags": []
   },
   "source": [
    "#### This notebook is a work in progress!"
   ]
  },
  {
   "cell_type": "code",
   "execution_count": 1,
   "metadata": {
    "_cell_guid": "b1076dfc-b9ad-4769-8c92-a6c4dae69d19",
    "_uuid": "8f2839f25d086af736a60e9eeb907d3b93b6e0e5",
    "execution": {
     "iopub.execute_input": "2020-12-09T09:54:22.293005Z",
     "iopub.status.busy": "2020-12-09T09:54:22.291995Z",
     "iopub.status.idle": "2020-12-09T09:54:28.162666Z",
     "shell.execute_reply": "2020-12-09T09:54:28.163400Z"
    },
    "papermill": {
     "duration": 5.909889,
     "end_time": "2020-12-09T09:54:28.163599",
     "exception": false,
     "start_time": "2020-12-09T09:54:22.253710",
     "status": "completed"
    },
    "tags": []
   },
   "outputs": [
    {
     "name": "stdout",
     "output_type": "stream",
     "text": [
      "/kaggle/input/quora-insincere-questions-classification/sample_submission.csv\n",
      "/kaggle/input/quora-insincere-questions-classification/embeddings.zip\n",
      "/kaggle/input/quora-insincere-questions-classification/train.csv\n",
      "/kaggle/input/quora-insincere-questions-classification/test.csv\n"
     ]
    },
    {
     "name": "stderr",
     "output_type": "stream",
     "text": [
      "/opt/conda/lib/python3.7/site-packages/tqdm/std.py:666: FutureWarning:\n",
      "\n",
      "The Panel class is removed from pandas. Accessing it from the top-level namespace will also be removed in the next version\n",
      "\n"
     ]
    }
   ],
   "source": [
    "import numpy as np # linear algebra\n",
    "import pandas as pd # data processing, CSV file I/O (e.g. pd.read_csv)\n",
    "import matplotlib.pyplot as plt\n",
    "%matplotlib inline\n",
    "import seaborn as sns\n",
    "sns.set()\n",
    "import matplotlib\n",
    "import cufflinks as cf\n",
    "import plotly\n",
    "import plotly.offline as py\n",
    "import plotly.graph_objs as go\n",
    "from tqdm import tqdm\n",
    "tqdm.pandas()\n",
    "\n",
    "import os\n",
    "for dirname, _, filenames in os.walk('/kaggle/input'):\n",
    "    for filename in filenames:\n",
    "        print(os.path.join(dirname, filename))\n"
   ]
  },
  {
   "cell_type": "markdown",
   "metadata": {
    "papermill": {
     "duration": 0.028648,
     "end_time": "2020-12-09T09:54:28.221159",
     "exception": false,
     "start_time": "2020-12-09T09:54:28.192511",
     "status": "completed"
    },
    "tags": []
   },
   "source": [
    "# Data Wrangling and Exploration"
   ]
  },
  {
   "cell_type": "code",
   "execution_count": 2,
   "metadata": {
    "execution": {
     "iopub.execute_input": "2020-12-09T09:54:28.283357Z",
     "iopub.status.busy": "2020-12-09T09:54:28.282420Z",
     "iopub.status.idle": "2020-12-09T09:58:00.283092Z",
     "shell.execute_reply": "2020-12-09T09:58:00.284148Z"
    },
    "papermill": {
     "duration": 212.034786,
     "end_time": "2020-12-09T09:58:00.284402",
     "exception": false,
     "start_time": "2020-12-09T09:54:28.249616",
     "status": "completed"
    },
    "tags": []
   },
   "outputs": [
    {
     "name": "stdout",
     "output_type": "stream",
     "text": [
      "Archive:  ../input/quora-insincere-questions-classification/embeddings.zip\r\n",
      "   creating: GoogleNews-vectors-negative300/\r\n",
      "   creating: glove.840B.300d/\r\n",
      "   creating: paragram_300_sl999/\r\n",
      "   creating: wiki-news-300d-1M/\r\n",
      "  inflating: glove.840B.300d/glove.840B.300d.txt  \r\n",
      "  inflating: GoogleNews-vectors-negative300/GoogleNews-vectors-negative300.bin  \r\n",
      "  inflating: wiki-news-300d-1M/wiki-news-300d-1M.vec  \r\n",
      "  inflating: paragram_300_sl999/README.txt  \r\n",
      "  inflating: paragram_300_sl999/paragram_300_sl999.txt  \r\n"
     ]
    }
   ],
   "source": [
    "!unzip ../input/quora-insincere-questions-classification/embeddings.zip"
   ]
  },
  {
   "cell_type": "code",
   "execution_count": 3,
   "metadata": {
    "_cell_guid": "79c7e3d0-c299-4dcb-8224-4455121ee9b0",
    "_uuid": "d629ff2d2480ee46fbb7e2d37f6b5fab8052498a",
    "execution": {
     "iopub.execute_input": "2020-12-09T09:58:00.509598Z",
     "iopub.status.busy": "2020-12-09T09:58:00.507300Z",
     "iopub.status.idle": "2020-12-09T09:58:06.183760Z",
     "shell.execute_reply": "2020-12-09T09:58:06.185030Z"
    },
    "papermill": {
     "duration": 5.81109,
     "end_time": "2020-12-09T09:58:06.185244",
     "exception": false,
     "start_time": "2020-12-09T09:58:00.374154",
     "status": "completed"
    },
    "tags": []
   },
   "outputs": [],
   "source": [
    "train = pd.read_csv('/kaggle/input/quora-insincere-questions-classification/train.csv')\n",
    "test = pd.read_csv('/kaggle/input/quora-insincere-questions-classification/test.csv')"
   ]
  },
  {
   "cell_type": "code",
   "execution_count": 4,
   "metadata": {
    "execution": {
     "iopub.execute_input": "2020-12-09T09:58:09.412077Z",
     "iopub.status.busy": "2020-12-09T09:58:09.411053Z",
     "iopub.status.idle": "2020-12-09T09:58:09.414962Z",
     "shell.execute_reply": "2020-12-09T09:58:09.412960Z"
    },
    "papermill": {
     "duration": 1.772417,
     "end_time": "2020-12-09T09:58:09.415138",
     "exception": false,
     "start_time": "2020-12-09T09:58:07.642721",
     "status": "completed"
    },
    "tags": []
   },
   "outputs": [
    {
     "name": "stdout",
     "output_type": "stream",
     "text": [
      "Train set shape :  (1306122, 3)\n",
      "Test set shape :  (375806, 2)\n"
     ]
    }
   ],
   "source": [
    "print(\"Train set shape : \",train.shape)\n",
    "print(\"Test set shape : \",test.shape)"
   ]
  },
  {
   "cell_type": "code",
   "execution_count": 5,
   "metadata": {
    "execution": {
     "iopub.execute_input": "2020-12-09T09:58:12.781027Z",
     "iopub.status.busy": "2020-12-09T09:58:12.779931Z",
     "iopub.status.idle": "2020-12-09T09:58:12.815117Z",
     "shell.execute_reply": "2020-12-09T09:58:12.816266Z"
    },
    "papermill": {
     "duration": 1.402643,
     "end_time": "2020-12-09T09:58:12.816498",
     "exception": false,
     "start_time": "2020-12-09T09:58:11.413855",
     "status": "completed"
    },
    "tags": []
   },
   "outputs": [
    {
     "data": {
      "text/html": [
       "<div>\n",
       "<style scoped>\n",
       "    .dataframe tbody tr th:only-of-type {\n",
       "        vertical-align: middle;\n",
       "    }\n",
       "\n",
       "    .dataframe tbody tr th {\n",
       "        vertical-align: top;\n",
       "    }\n",
       "\n",
       "    .dataframe thead th {\n",
       "        text-align: right;\n",
       "    }\n",
       "</style>\n",
       "<table border=\"1\" class=\"dataframe\">\n",
       "  <thead>\n",
       "    <tr style=\"text-align: right;\">\n",
       "      <th></th>\n",
       "      <th>qid</th>\n",
       "      <th>question_text</th>\n",
       "      <th>target</th>\n",
       "    </tr>\n",
       "  </thead>\n",
       "  <tbody>\n",
       "    <tr>\n",
       "      <th>0</th>\n",
       "      <td>00002165364db923c7e6</td>\n",
       "      <td>How did Quebec nationalists see their province...</td>\n",
       "      <td>0</td>\n",
       "    </tr>\n",
       "    <tr>\n",
       "      <th>1</th>\n",
       "      <td>000032939017120e6e44</td>\n",
       "      <td>Do you have an adopted dog, how would you enco...</td>\n",
       "      <td>0</td>\n",
       "    </tr>\n",
       "    <tr>\n",
       "      <th>2</th>\n",
       "      <td>0000412ca6e4628ce2cf</td>\n",
       "      <td>Why does velocity affect time? Does velocity a...</td>\n",
       "      <td>0</td>\n",
       "    </tr>\n",
       "    <tr>\n",
       "      <th>3</th>\n",
       "      <td>000042bf85aa498cd78e</td>\n",
       "      <td>How did Otto von Guericke used the Magdeburg h...</td>\n",
       "      <td>0</td>\n",
       "    </tr>\n",
       "    <tr>\n",
       "      <th>4</th>\n",
       "      <td>0000455dfa3e01eae3af</td>\n",
       "      <td>Can I convert montra helicon D to a mountain b...</td>\n",
       "      <td>0</td>\n",
       "    </tr>\n",
       "  </tbody>\n",
       "</table>\n",
       "</div>"
      ],
      "text/plain": [
       "                    qid                                      question_text  \\\n",
       "0  00002165364db923c7e6  How did Quebec nationalists see their province...   \n",
       "1  000032939017120e6e44  Do you have an adopted dog, how would you enco...   \n",
       "2  0000412ca6e4628ce2cf  Why does velocity affect time? Does velocity a...   \n",
       "3  000042bf85aa498cd78e  How did Otto von Guericke used the Magdeburg h...   \n",
       "4  0000455dfa3e01eae3af  Can I convert montra helicon D to a mountain b...   \n",
       "\n",
       "   target  \n",
       "0       0  \n",
       "1       0  \n",
       "2       0  \n",
       "3       0  \n",
       "4       0  "
      ]
     },
     "execution_count": 5,
     "metadata": {},
     "output_type": "execute_result"
    }
   ],
   "source": [
    "train.head()"
   ]
  },
  {
   "cell_type": "code",
   "execution_count": 6,
   "metadata": {
    "execution": {
     "iopub.execute_input": "2020-12-09T09:58:12.957470Z",
     "iopub.status.busy": "2020-12-09T09:58:12.954430Z",
     "iopub.status.idle": "2020-12-09T09:58:14.561669Z",
     "shell.execute_reply": "2020-12-09T09:58:14.560679Z"
    },
    "papermill": {
     "duration": 1.684691,
     "end_time": "2020-12-09T09:58:14.561788",
     "exception": false,
     "start_time": "2020-12-09T09:58:12.877097",
     "status": "completed"
    },
    "tags": []
   },
   "outputs": [
    {
     "data": {
      "text/html": [
       "        <script type=\"text/javascript\">\n",
       "        window.PlotlyConfig = {MathJaxConfig: 'local'};\n",
       "        if (window.MathJax) {MathJax.Hub.Config({SVG: {font: \"STIX-Web\"}});}\n",
       "        if (typeof require !== 'undefined') {\n",
       "        require.undef(\"plotly\");\n",
       "        requirejs.config({\n",
       "            paths: {\n",
       "                'plotly': ['https://cdn.plot.ly/plotly-latest.min']\n",
       "            }\n",
       "        });\n",
       "        require(['plotly'], function(Plotly) {\n",
       "            window._Plotly = Plotly;\n",
       "        });\n",
       "        }\n",
       "        </script>\n",
       "        "
      ]
     },
     "metadata": {},
     "output_type": "display_data"
    },
    {
     "data": {
      "text/html": [
       "<div>                            <div id=\"c8d95ff9-03ea-40ad-9411-6c14f99edf68\" class=\"plotly-graph-div\" style=\"height:525px; width:100%;\"></div>            <script type=\"text/javascript\">                require([\"plotly\"], function(Plotly) {                    window.PLOTLYENV=window.PLOTLYENV || {};                                    if (document.getElementById(\"c8d95ff9-03ea-40ad-9411-6c14f99edf68\")) {                    Plotly.newPlot(                        \"c8d95ff9-03ea-40ad-9411-6c14f99edf68\",                        [{\"marker\": {\"color\": [1225312, 80810]}, \"type\": \"bar\", \"x\": [0, 1], \"y\": [1225312, 80810]}],                        {\"font\": {\"size\": 12}, \"template\": {\"data\": {\"bar\": [{\"error_x\": {\"color\": \"#2a3f5f\"}, \"error_y\": {\"color\": \"#2a3f5f\"}, \"marker\": {\"line\": {\"color\": \"#E5ECF6\", \"width\": 0.5}}, \"type\": \"bar\"}], \"barpolar\": [{\"marker\": {\"line\": {\"color\": \"#E5ECF6\", \"width\": 0.5}}, \"type\": \"barpolar\"}], \"carpet\": [{\"aaxis\": {\"endlinecolor\": \"#2a3f5f\", \"gridcolor\": \"white\", \"linecolor\": \"white\", \"minorgridcolor\": \"white\", \"startlinecolor\": \"#2a3f5f\"}, \"baxis\": {\"endlinecolor\": \"#2a3f5f\", \"gridcolor\": \"white\", \"linecolor\": \"white\", \"minorgridcolor\": \"white\", \"startlinecolor\": \"#2a3f5f\"}, \"type\": \"carpet\"}], \"choropleth\": [{\"colorbar\": {\"outlinewidth\": 0, \"ticks\": \"\"}, \"type\": \"choropleth\"}], \"contour\": [{\"colorbar\": {\"outlinewidth\": 0, \"ticks\": \"\"}, \"colorscale\": [[0.0, \"#0d0887\"], [0.1111111111111111, \"#46039f\"], [0.2222222222222222, \"#7201a8\"], [0.3333333333333333, \"#9c179e\"], [0.4444444444444444, \"#bd3786\"], [0.5555555555555556, \"#d8576b\"], [0.6666666666666666, \"#ed7953\"], [0.7777777777777778, \"#fb9f3a\"], [0.8888888888888888, \"#fdca26\"], [1.0, \"#f0f921\"]], \"type\": \"contour\"}], \"contourcarpet\": [{\"colorbar\": {\"outlinewidth\": 0, \"ticks\": \"\"}, \"type\": \"contourcarpet\"}], \"heatmap\": [{\"colorbar\": {\"outlinewidth\": 0, \"ticks\": \"\"}, \"colorscale\": [[0.0, \"#0d0887\"], [0.1111111111111111, \"#46039f\"], [0.2222222222222222, \"#7201a8\"], [0.3333333333333333, \"#9c179e\"], [0.4444444444444444, \"#bd3786\"], [0.5555555555555556, \"#d8576b\"], [0.6666666666666666, \"#ed7953\"], [0.7777777777777778, \"#fb9f3a\"], [0.8888888888888888, \"#fdca26\"], [1.0, \"#f0f921\"]], \"type\": \"heatmap\"}], \"heatmapgl\": [{\"colorbar\": {\"outlinewidth\": 0, \"ticks\": \"\"}, \"colorscale\": [[0.0, \"#0d0887\"], [0.1111111111111111, \"#46039f\"], [0.2222222222222222, \"#7201a8\"], [0.3333333333333333, \"#9c179e\"], [0.4444444444444444, \"#bd3786\"], [0.5555555555555556, \"#d8576b\"], [0.6666666666666666, \"#ed7953\"], [0.7777777777777778, \"#fb9f3a\"], [0.8888888888888888, \"#fdca26\"], [1.0, \"#f0f921\"]], \"type\": \"heatmapgl\"}], \"histogram\": [{\"marker\": {\"colorbar\": {\"outlinewidth\": 0, \"ticks\": \"\"}}, \"type\": \"histogram\"}], \"histogram2d\": [{\"colorbar\": {\"outlinewidth\": 0, \"ticks\": \"\"}, \"colorscale\": [[0.0, \"#0d0887\"], [0.1111111111111111, \"#46039f\"], [0.2222222222222222, \"#7201a8\"], [0.3333333333333333, \"#9c179e\"], [0.4444444444444444, \"#bd3786\"], [0.5555555555555556, \"#d8576b\"], [0.6666666666666666, \"#ed7953\"], [0.7777777777777778, \"#fb9f3a\"], [0.8888888888888888, \"#fdca26\"], [1.0, \"#f0f921\"]], \"type\": \"histogram2d\"}], \"histogram2dcontour\": [{\"colorbar\": {\"outlinewidth\": 0, \"ticks\": \"\"}, \"colorscale\": [[0.0, \"#0d0887\"], [0.1111111111111111, \"#46039f\"], [0.2222222222222222, \"#7201a8\"], [0.3333333333333333, \"#9c179e\"], [0.4444444444444444, \"#bd3786\"], [0.5555555555555556, \"#d8576b\"], [0.6666666666666666, \"#ed7953\"], [0.7777777777777778, \"#fb9f3a\"], [0.8888888888888888, \"#fdca26\"], [1.0, \"#f0f921\"]], \"type\": \"histogram2dcontour\"}], \"mesh3d\": [{\"colorbar\": {\"outlinewidth\": 0, \"ticks\": \"\"}, \"type\": \"mesh3d\"}], \"parcoords\": [{\"line\": {\"colorbar\": {\"outlinewidth\": 0, \"ticks\": \"\"}}, \"type\": \"parcoords\"}], \"pie\": [{\"automargin\": true, \"type\": \"pie\"}], \"scatter\": [{\"marker\": {\"colorbar\": {\"outlinewidth\": 0, \"ticks\": \"\"}}, \"type\": \"scatter\"}], \"scatter3d\": [{\"line\": {\"colorbar\": {\"outlinewidth\": 0, \"ticks\": \"\"}}, \"marker\": {\"colorbar\": {\"outlinewidth\": 0, \"ticks\": \"\"}}, \"type\": \"scatter3d\"}], \"scattercarpet\": [{\"marker\": {\"colorbar\": {\"outlinewidth\": 0, \"ticks\": \"\"}}, \"type\": \"scattercarpet\"}], \"scattergeo\": [{\"marker\": {\"colorbar\": {\"outlinewidth\": 0, \"ticks\": \"\"}}, \"type\": \"scattergeo\"}], \"scattergl\": [{\"marker\": {\"colorbar\": {\"outlinewidth\": 0, \"ticks\": \"\"}}, \"type\": \"scattergl\"}], \"scattermapbox\": [{\"marker\": {\"colorbar\": {\"outlinewidth\": 0, \"ticks\": \"\"}}, \"type\": \"scattermapbox\"}], \"scatterpolar\": [{\"marker\": {\"colorbar\": {\"outlinewidth\": 0, \"ticks\": \"\"}}, \"type\": \"scatterpolar\"}], \"scatterpolargl\": [{\"marker\": {\"colorbar\": {\"outlinewidth\": 0, \"ticks\": \"\"}}, \"type\": \"scatterpolargl\"}], \"scatterternary\": [{\"marker\": {\"colorbar\": {\"outlinewidth\": 0, \"ticks\": \"\"}}, \"type\": \"scatterternary\"}], \"surface\": [{\"colorbar\": {\"outlinewidth\": 0, \"ticks\": \"\"}, \"colorscale\": [[0.0, \"#0d0887\"], [0.1111111111111111, \"#46039f\"], [0.2222222222222222, \"#7201a8\"], [0.3333333333333333, \"#9c179e\"], [0.4444444444444444, \"#bd3786\"], [0.5555555555555556, \"#d8576b\"], [0.6666666666666666, \"#ed7953\"], [0.7777777777777778, \"#fb9f3a\"], [0.8888888888888888, \"#fdca26\"], [1.0, \"#f0f921\"]], \"type\": \"surface\"}], \"table\": [{\"cells\": {\"fill\": {\"color\": \"#EBF0F8\"}, \"line\": {\"color\": \"white\"}}, \"header\": {\"fill\": {\"color\": \"#C8D4E3\"}, \"line\": {\"color\": \"white\"}}, \"type\": \"table\"}]}, \"layout\": {\"annotationdefaults\": {\"arrowcolor\": \"#2a3f5f\", \"arrowhead\": 0, \"arrowwidth\": 1}, \"coloraxis\": {\"colorbar\": {\"outlinewidth\": 0, \"ticks\": \"\"}}, \"colorscale\": {\"diverging\": [[0, \"#8e0152\"], [0.1, \"#c51b7d\"], [0.2, \"#de77ae\"], [0.3, \"#f1b6da\"], [0.4, \"#fde0ef\"], [0.5, \"#f7f7f7\"], [0.6, \"#e6f5d0\"], [0.7, \"#b8e186\"], [0.8, \"#7fbc41\"], [0.9, \"#4d9221\"], [1, \"#276419\"]], \"sequential\": [[0.0, \"#0d0887\"], [0.1111111111111111, \"#46039f\"], [0.2222222222222222, \"#7201a8\"], [0.3333333333333333, \"#9c179e\"], [0.4444444444444444, \"#bd3786\"], [0.5555555555555556, \"#d8576b\"], [0.6666666666666666, \"#ed7953\"], [0.7777777777777778, \"#fb9f3a\"], [0.8888888888888888, \"#fdca26\"], [1.0, \"#f0f921\"]], \"sequentialminus\": [[0.0, \"#0d0887\"], [0.1111111111111111, \"#46039f\"], [0.2222222222222222, \"#7201a8\"], [0.3333333333333333, \"#9c179e\"], [0.4444444444444444, \"#bd3786\"], [0.5555555555555556, \"#d8576b\"], [0.6666666666666666, \"#ed7953\"], [0.7777777777777778, \"#fb9f3a\"], [0.8888888888888888, \"#fdca26\"], [1.0, \"#f0f921\"]]}, \"colorway\": [\"#636efa\", \"#EF553B\", \"#00cc96\", \"#ab63fa\", \"#FFA15A\", \"#19d3f3\", \"#FF6692\", \"#B6E880\", \"#FF97FF\", \"#FECB52\"], \"font\": {\"color\": \"#2a3f5f\"}, \"geo\": {\"bgcolor\": \"white\", \"lakecolor\": \"white\", \"landcolor\": \"#E5ECF6\", \"showlakes\": true, \"showland\": true, \"subunitcolor\": \"white\"}, \"hoverlabel\": {\"align\": \"left\"}, \"hovermode\": \"closest\", \"mapbox\": {\"style\": \"light\"}, \"paper_bgcolor\": \"white\", \"plot_bgcolor\": \"#E5ECF6\", \"polar\": {\"angularaxis\": {\"gridcolor\": \"white\", \"linecolor\": \"white\", \"ticks\": \"\"}, \"bgcolor\": \"#E5ECF6\", \"radialaxis\": {\"gridcolor\": \"white\", \"linecolor\": \"white\", \"ticks\": \"\"}}, \"scene\": {\"xaxis\": {\"backgroundcolor\": \"#E5ECF6\", \"gridcolor\": \"white\", \"gridwidth\": 2, \"linecolor\": \"white\", \"showbackground\": true, \"ticks\": \"\", \"zerolinecolor\": \"white\"}, \"yaxis\": {\"backgroundcolor\": \"#E5ECF6\", \"gridcolor\": \"white\", \"gridwidth\": 2, \"linecolor\": \"white\", \"showbackground\": true, \"ticks\": \"\", \"zerolinecolor\": \"white\"}, \"zaxis\": {\"backgroundcolor\": \"#E5ECF6\", \"gridcolor\": \"white\", \"gridwidth\": 2, \"linecolor\": \"white\", \"showbackground\": true, \"ticks\": \"\", \"zerolinecolor\": \"white\"}}, \"shapedefaults\": {\"line\": {\"color\": \"#2a3f5f\"}}, \"ternary\": {\"aaxis\": {\"gridcolor\": \"white\", \"linecolor\": \"white\", \"ticks\": \"\"}, \"baxis\": {\"gridcolor\": \"white\", \"linecolor\": \"white\", \"ticks\": \"\"}, \"bgcolor\": \"#E5ECF6\", \"caxis\": {\"gridcolor\": \"white\", \"linecolor\": \"white\", \"ticks\": \"\"}}, \"title\": {\"x\": 0.05}, \"xaxis\": {\"automargin\": true, \"gridcolor\": \"white\", \"linecolor\": \"white\", \"ticks\": \"\", \"title\": {\"standoff\": 15}, \"zerolinecolor\": \"white\", \"zerolinewidth\": 2}, \"yaxis\": {\"automargin\": true, \"gridcolor\": \"white\", \"linecolor\": \"white\", \"ticks\": \"\", \"title\": {\"standoff\": 15}, \"zerolinecolor\": \"white\", \"zerolinewidth\": 2}}}, \"title\": {\"text\": \"Target counts\"}},                        {\"responsive\": true}                    ).then(function(){\n",
       "                            \n",
       "var gd = document.getElementById('c8d95ff9-03ea-40ad-9411-6c14f99edf68');\n",
       "var x = new MutationObserver(function (mutations, observer) {{\n",
       "        var display = window.getComputedStyle(gd).display;\n",
       "        if (!display || display === 'none') {{\n",
       "            console.log([gd, 'removed!']);\n",
       "            Plotly.purge(gd);\n",
       "            observer.disconnect();\n",
       "        }}\n",
       "}});\n",
       "\n",
       "// Listen for the removal of the full notebook cells\n",
       "var notebookContainer = gd.closest('#notebook-container');\n",
       "if (notebookContainer) {{\n",
       "    x.observe(notebookContainer, {childList: true});\n",
       "}}\n",
       "\n",
       "// Listen for the clearing of the current output cell\n",
       "var outputEl = gd.closest('.output');\n",
       "if (outputEl) {{\n",
       "    x.observe(outputEl, {childList: true});\n",
       "}}\n",
       "\n",
       "                        })                };                });            </script>        </div>"
      ]
     },
     "metadata": {},
     "output_type": "display_data"
    },
    {
     "data": {
      "text/html": [
       "<div>                            <div id=\"b0cbaef0-51f4-4f14-8092-b9f180eb69fd\" class=\"plotly-graph-div\" style=\"height:600px; width:600px;\"></div>            <script type=\"text/javascript\">                require([\"plotly\"], function(Plotly) {                    window.PLOTLYENV=window.PLOTLYENV || {};                                    if (document.getElementById(\"b0cbaef0-51f4-4f14-8092-b9f180eb69fd\")) {                    Plotly.newPlot(                        \"b0cbaef0-51f4-4f14-8092-b9f180eb69fd\",                        [{\"labels\": [0, 1], \"type\": \"pie\", \"values\": [93.81298224821265, 6.187017751787352]}],                        {\"font\": {\"size\": 12}, \"height\": 600, \"template\": {\"data\": {\"bar\": [{\"error_x\": {\"color\": \"#2a3f5f\"}, \"error_y\": {\"color\": \"#2a3f5f\"}, \"marker\": {\"line\": {\"color\": \"#E5ECF6\", \"width\": 0.5}}, \"type\": \"bar\"}], \"barpolar\": [{\"marker\": {\"line\": {\"color\": \"#E5ECF6\", \"width\": 0.5}}, \"type\": \"barpolar\"}], \"carpet\": [{\"aaxis\": {\"endlinecolor\": \"#2a3f5f\", \"gridcolor\": \"white\", \"linecolor\": \"white\", \"minorgridcolor\": \"white\", \"startlinecolor\": \"#2a3f5f\"}, \"baxis\": {\"endlinecolor\": \"#2a3f5f\", \"gridcolor\": \"white\", \"linecolor\": \"white\", \"minorgridcolor\": \"white\", \"startlinecolor\": \"#2a3f5f\"}, \"type\": \"carpet\"}], \"choropleth\": [{\"colorbar\": {\"outlinewidth\": 0, \"ticks\": \"\"}, \"type\": \"choropleth\"}], \"contour\": [{\"colorbar\": {\"outlinewidth\": 0, \"ticks\": \"\"}, \"colorscale\": [[0.0, \"#0d0887\"], [0.1111111111111111, \"#46039f\"], [0.2222222222222222, \"#7201a8\"], [0.3333333333333333, \"#9c179e\"], [0.4444444444444444, \"#bd3786\"], [0.5555555555555556, \"#d8576b\"], [0.6666666666666666, \"#ed7953\"], [0.7777777777777778, \"#fb9f3a\"], [0.8888888888888888, \"#fdca26\"], [1.0, \"#f0f921\"]], \"type\": \"contour\"}], \"contourcarpet\": [{\"colorbar\": {\"outlinewidth\": 0, \"ticks\": \"\"}, \"type\": \"contourcarpet\"}], \"heatmap\": [{\"colorbar\": {\"outlinewidth\": 0, \"ticks\": \"\"}, \"colorscale\": [[0.0, \"#0d0887\"], [0.1111111111111111, \"#46039f\"], [0.2222222222222222, \"#7201a8\"], [0.3333333333333333, \"#9c179e\"], [0.4444444444444444, \"#bd3786\"], [0.5555555555555556, \"#d8576b\"], [0.6666666666666666, \"#ed7953\"], [0.7777777777777778, \"#fb9f3a\"], [0.8888888888888888, \"#fdca26\"], [1.0, \"#f0f921\"]], \"type\": \"heatmap\"}], \"heatmapgl\": [{\"colorbar\": {\"outlinewidth\": 0, \"ticks\": \"\"}, \"colorscale\": [[0.0, \"#0d0887\"], [0.1111111111111111, \"#46039f\"], [0.2222222222222222, \"#7201a8\"], [0.3333333333333333, \"#9c179e\"], [0.4444444444444444, \"#bd3786\"], [0.5555555555555556, \"#d8576b\"], [0.6666666666666666, \"#ed7953\"], [0.7777777777777778, \"#fb9f3a\"], [0.8888888888888888, \"#fdca26\"], [1.0, \"#f0f921\"]], \"type\": \"heatmapgl\"}], \"histogram\": [{\"marker\": {\"colorbar\": {\"outlinewidth\": 0, \"ticks\": \"\"}}, \"type\": \"histogram\"}], \"histogram2d\": [{\"colorbar\": {\"outlinewidth\": 0, \"ticks\": \"\"}, \"colorscale\": [[0.0, \"#0d0887\"], [0.1111111111111111, \"#46039f\"], [0.2222222222222222, \"#7201a8\"], [0.3333333333333333, \"#9c179e\"], [0.4444444444444444, \"#bd3786\"], [0.5555555555555556, \"#d8576b\"], [0.6666666666666666, \"#ed7953\"], [0.7777777777777778, \"#fb9f3a\"], [0.8888888888888888, \"#fdca26\"], [1.0, \"#f0f921\"]], \"type\": \"histogram2d\"}], \"histogram2dcontour\": [{\"colorbar\": {\"outlinewidth\": 0, \"ticks\": \"\"}, \"colorscale\": [[0.0, \"#0d0887\"], [0.1111111111111111, \"#46039f\"], [0.2222222222222222, \"#7201a8\"], [0.3333333333333333, \"#9c179e\"], [0.4444444444444444, \"#bd3786\"], [0.5555555555555556, \"#d8576b\"], [0.6666666666666666, \"#ed7953\"], [0.7777777777777778, \"#fb9f3a\"], [0.8888888888888888, \"#fdca26\"], [1.0, \"#f0f921\"]], \"type\": \"histogram2dcontour\"}], \"mesh3d\": [{\"colorbar\": {\"outlinewidth\": 0, \"ticks\": \"\"}, \"type\": \"mesh3d\"}], \"parcoords\": [{\"line\": {\"colorbar\": {\"outlinewidth\": 0, \"ticks\": \"\"}}, \"type\": \"parcoords\"}], \"pie\": [{\"automargin\": true, \"type\": \"pie\"}], \"scatter\": [{\"marker\": {\"colorbar\": {\"outlinewidth\": 0, \"ticks\": \"\"}}, \"type\": \"scatter\"}], \"scatter3d\": [{\"line\": {\"colorbar\": {\"outlinewidth\": 0, \"ticks\": \"\"}}, \"marker\": {\"colorbar\": {\"outlinewidth\": 0, \"ticks\": \"\"}}, \"type\": \"scatter3d\"}], \"scattercarpet\": [{\"marker\": {\"colorbar\": {\"outlinewidth\": 0, \"ticks\": \"\"}}, \"type\": \"scattercarpet\"}], \"scattergeo\": [{\"marker\": {\"colorbar\": {\"outlinewidth\": 0, \"ticks\": \"\"}}, \"type\": \"scattergeo\"}], \"scattergl\": [{\"marker\": {\"colorbar\": {\"outlinewidth\": 0, \"ticks\": \"\"}}, \"type\": \"scattergl\"}], \"scattermapbox\": [{\"marker\": {\"colorbar\": {\"outlinewidth\": 0, \"ticks\": \"\"}}, \"type\": \"scattermapbox\"}], \"scatterpolar\": [{\"marker\": {\"colorbar\": {\"outlinewidth\": 0, \"ticks\": \"\"}}, \"type\": \"scatterpolar\"}], \"scatterpolargl\": [{\"marker\": {\"colorbar\": {\"outlinewidth\": 0, \"ticks\": \"\"}}, \"type\": \"scatterpolargl\"}], \"scatterternary\": [{\"marker\": {\"colorbar\": {\"outlinewidth\": 0, \"ticks\": \"\"}}, \"type\": \"scatterternary\"}], \"surface\": [{\"colorbar\": {\"outlinewidth\": 0, \"ticks\": \"\"}, \"colorscale\": [[0.0, \"#0d0887\"], [0.1111111111111111, \"#46039f\"], [0.2222222222222222, \"#7201a8\"], [0.3333333333333333, \"#9c179e\"], [0.4444444444444444, \"#bd3786\"], [0.5555555555555556, \"#d8576b\"], [0.6666666666666666, \"#ed7953\"], [0.7777777777777778, \"#fb9f3a\"], [0.8888888888888888, \"#fdca26\"], [1.0, \"#f0f921\"]], \"type\": \"surface\"}], \"table\": [{\"cells\": {\"fill\": {\"color\": \"#EBF0F8\"}, \"line\": {\"color\": \"white\"}}, \"header\": {\"fill\": {\"color\": \"#C8D4E3\"}, \"line\": {\"color\": \"white\"}}, \"type\": \"table\"}]}, \"layout\": {\"annotationdefaults\": {\"arrowcolor\": \"#2a3f5f\", \"arrowhead\": 0, \"arrowwidth\": 1}, \"coloraxis\": {\"colorbar\": {\"outlinewidth\": 0, \"ticks\": \"\"}}, \"colorscale\": {\"diverging\": [[0, \"#8e0152\"], [0.1, \"#c51b7d\"], [0.2, \"#de77ae\"], [0.3, \"#f1b6da\"], [0.4, \"#fde0ef\"], [0.5, \"#f7f7f7\"], [0.6, \"#e6f5d0\"], [0.7, \"#b8e186\"], [0.8, \"#7fbc41\"], [0.9, \"#4d9221\"], [1, \"#276419\"]], \"sequential\": [[0.0, \"#0d0887\"], [0.1111111111111111, \"#46039f\"], [0.2222222222222222, \"#7201a8\"], [0.3333333333333333, \"#9c179e\"], [0.4444444444444444, \"#bd3786\"], [0.5555555555555556, \"#d8576b\"], [0.6666666666666666, \"#ed7953\"], [0.7777777777777778, \"#fb9f3a\"], [0.8888888888888888, \"#fdca26\"], [1.0, \"#f0f921\"]], \"sequentialminus\": [[0.0, \"#0d0887\"], [0.1111111111111111, \"#46039f\"], [0.2222222222222222, \"#7201a8\"], [0.3333333333333333, \"#9c179e\"], [0.4444444444444444, \"#bd3786\"], [0.5555555555555556, \"#d8576b\"], [0.6666666666666666, \"#ed7953\"], [0.7777777777777778, \"#fb9f3a\"], [0.8888888888888888, \"#fdca26\"], [1.0, \"#f0f921\"]]}, \"colorway\": [\"#636efa\", \"#EF553B\", \"#00cc96\", \"#ab63fa\", \"#FFA15A\", \"#19d3f3\", \"#FF6692\", \"#B6E880\", \"#FF97FF\", \"#FECB52\"], \"font\": {\"color\": \"#2a3f5f\"}, \"geo\": {\"bgcolor\": \"white\", \"lakecolor\": \"white\", \"landcolor\": \"#E5ECF6\", \"showlakes\": true, \"showland\": true, \"subunitcolor\": \"white\"}, \"hoverlabel\": {\"align\": \"left\"}, \"hovermode\": \"closest\", \"mapbox\": {\"style\": \"light\"}, \"paper_bgcolor\": \"white\", \"plot_bgcolor\": \"#E5ECF6\", \"polar\": {\"angularaxis\": {\"gridcolor\": \"white\", \"linecolor\": \"white\", \"ticks\": \"\"}, \"bgcolor\": \"#E5ECF6\", \"radialaxis\": {\"gridcolor\": \"white\", \"linecolor\": \"white\", \"ticks\": \"\"}}, \"scene\": {\"xaxis\": {\"backgroundcolor\": \"#E5ECF6\", \"gridcolor\": \"white\", \"gridwidth\": 2, \"linecolor\": \"white\", \"showbackground\": true, \"ticks\": \"\", \"zerolinecolor\": \"white\"}, \"yaxis\": {\"backgroundcolor\": \"#E5ECF6\", \"gridcolor\": \"white\", \"gridwidth\": 2, \"linecolor\": \"white\", \"showbackground\": true, \"ticks\": \"\", \"zerolinecolor\": \"white\"}, \"zaxis\": {\"backgroundcolor\": \"#E5ECF6\", \"gridcolor\": \"white\", \"gridwidth\": 2, \"linecolor\": \"white\", \"showbackground\": true, \"ticks\": \"\", \"zerolinecolor\": \"white\"}}, \"shapedefaults\": {\"line\": {\"color\": \"#2a3f5f\"}}, \"ternary\": {\"aaxis\": {\"gridcolor\": \"white\", \"linecolor\": \"white\", \"ticks\": \"\"}, \"baxis\": {\"gridcolor\": \"white\", \"linecolor\": \"white\", \"ticks\": \"\"}, \"bgcolor\": \"#E5ECF6\", \"caxis\": {\"gridcolor\": \"white\", \"linecolor\": \"white\", \"ticks\": \"\"}}, \"title\": {\"x\": 0.05}, \"xaxis\": {\"automargin\": true, \"gridcolor\": \"white\", \"linecolor\": \"white\", \"ticks\": \"\", \"title\": {\"standoff\": 15}, \"zerolinecolor\": \"white\", \"zerolinewidth\": 2}, \"yaxis\": {\"automargin\": true, \"gridcolor\": \"white\", \"linecolor\": \"white\", \"ticks\": \"\", \"title\": {\"standoff\": 15}, \"zerolinecolor\": \"white\", \"zerolinewidth\": 2}}}, \"title\": {\"text\": \"Target proportion pie\"}, \"width\": 600},                        {\"responsive\": true}                    ).then(function(){\n",
       "                            \n",
       "var gd = document.getElementById('b0cbaef0-51f4-4f14-8092-b9f180eb69fd');\n",
       "var x = new MutationObserver(function (mutations, observer) {{\n",
       "        var display = window.getComputedStyle(gd).display;\n",
       "        if (!display || display === 'none') {{\n",
       "            console.log([gd, 'removed!']);\n",
       "            Plotly.purge(gd);\n",
       "            observer.disconnect();\n",
       "        }}\n",
       "}});\n",
       "\n",
       "// Listen for the removal of the full notebook cells\n",
       "var notebookContainer = gd.closest('#notebook-container');\n",
       "if (notebookContainer) {{\n",
       "    x.observe(notebookContainer, {childList: true});\n",
       "}}\n",
       "\n",
       "// Listen for the clearing of the current output cell\n",
       "var outputEl = gd.closest('.output');\n",
       "if (outputEl) {{\n",
       "    x.observe(outputEl, {childList: true});\n",
       "}}\n",
       "\n",
       "                        })                };                });            </script>        </div>"
      ]
     },
     "metadata": {},
     "output_type": "display_data"
    }
   ],
   "source": [
    "# no. of observations with distinct targets\n",
    "count_targets = train['target'].value_counts()\n",
    "\n",
    "# setting up the above results in form of a bar chart using python graph objects module\n",
    "trace = go.Bar(x = count_targets.index, y = count_targets, marker = dict(color = count_targets.values))\n",
    "# setting up parameters for layout of the bar chart \n",
    "layout = go.Layout(title = 'Target counts', font = dict(size=12))\n",
    "\n",
    "data = [trace] \n",
    "fig = go.Figure(data = data, layout = layout) # inserting defined traces and layout as parameters of the plotly figure method\n",
    "py.iplot(fig, filename = \"TargetCount\") # Plotting the bar chart\n",
    "\n",
    "\n",
    "# Further, plotting the observations for each class in form of a pie chart\n",
    "\n",
    "labels = (np.array(count_targets.index)) # defining the targets of the dataset in the labels object\n",
    "# defining the proportions of count of each target out of total count\n",
    "proportions = (np.array((count_targets/count_targets.sum())*100)) \n",
    "\n",
    "# setting up our results as parameters in the trace object i.e. the data to plot\n",
    "trace = go.Pie(labels = labels, values = proportions)\n",
    "layout = go.Layout(                       \n",
    "    title = \"Target proportion pie\",     # pie chart layout specifications \n",
    "    font = dict(size = 12),\n",
    "    width = 600,\n",
    "    height = 600)\n",
    "\n",
    "data = [trace]\n",
    "fig = go.Figure(data = data, layout = layout) \n",
    "py.iplot(fig, filename = \"usertype\")  # Plotting the pie chart"
   ]
  },
  {
   "cell_type": "markdown",
   "metadata": {
    "papermill": {
     "duration": 20.753126,
     "end_time": "2020-12-09T09:58:35.347902",
     "exception": false,
     "start_time": "2020-12-09T09:58:14.594776",
     "status": "completed"
    },
    "tags": []
   },
   "source": [
    "Our dataset is highly imbalanced."
   ]
  },
  {
   "cell_type": "code",
   "execution_count": 7,
   "metadata": {
    "execution": {
     "iopub.execute_input": "2020-12-09T09:58:35.430061Z",
     "iopub.status.busy": "2020-12-09T09:58:35.429316Z",
     "iopub.status.idle": "2020-12-09T09:58:36.093255Z",
     "shell.execute_reply": "2020-12-09T09:58:36.092091Z"
    },
    "papermill": {
     "duration": 0.703771,
     "end_time": "2020-12-09T09:58:36.093375",
     "exception": false,
     "start_time": "2020-12-09T09:58:35.389604",
     "status": "completed"
    },
    "tags": []
   },
   "outputs": [],
   "source": [
    "from nltk.corpus import stopwords\n",
    "stop_words = set(stopwords.words('english'))"
   ]
  },
  {
   "cell_type": "code",
   "execution_count": 8,
   "metadata": {
    "execution": {
     "iopub.execute_input": "2020-12-09T09:58:36.172364Z",
     "iopub.status.busy": "2020-12-09T09:58:36.171167Z",
     "iopub.status.idle": "2020-12-09T09:58:39.692500Z",
     "shell.execute_reply": "2020-12-09T09:58:39.691513Z"
    },
    "papermill": {
     "duration": 3.565864,
     "end_time": "2020-12-09T09:58:39.692635",
     "exception": false,
     "start_time": "2020-12-09T09:58:36.126771",
     "status": "completed"
    },
    "tags": []
   },
   "outputs": [],
   "source": [
    "# Number of words in sentences of the text \n",
    "train['num_words'] = train['question_text'].apply(lambda x: len(str(x).split()))\n",
    "test['num_words'] = test['question_text'].apply(lambda x: len(str(x).split()))"
   ]
  },
  {
   "cell_type": "code",
   "execution_count": 9,
   "metadata": {
    "execution": {
     "iopub.execute_input": "2020-12-09T09:58:39.769538Z",
     "iopub.status.busy": "2020-12-09T09:58:39.768615Z",
     "iopub.status.idle": "2020-12-09T09:58:39.774965Z",
     "shell.execute_reply": "2020-12-09T09:58:39.775397Z"
    },
    "papermill": {
     "duration": 0.047958,
     "end_time": "2020-12-09T09:58:39.775554",
     "exception": false,
     "start_time": "2020-12-09T09:58:39.727596",
     "status": "completed"
    },
    "tags": []
   },
   "outputs": [],
   "source": [
    "maximum,mean = train['num_words'].max(),train['num_words'].mean()"
   ]
  },
  {
   "cell_type": "code",
   "execution_count": 10,
   "metadata": {
    "execution": {
     "iopub.execute_input": "2020-12-09T09:58:39.848509Z",
     "iopub.status.busy": "2020-12-09T09:58:39.847638Z",
     "iopub.status.idle": "2020-12-09T09:58:39.852691Z",
     "shell.execute_reply": "2020-12-09T09:58:39.853271Z"
    },
    "papermill": {
     "duration": 0.043322,
     "end_time": "2020-12-09T09:58:39.853424",
     "exception": false,
     "start_time": "2020-12-09T09:58:39.810102",
     "status": "completed"
    },
    "tags": []
   },
   "outputs": [
    {
     "name": "stdout",
     "output_type": "stream",
     "text": [
      "Maximum no. of words :  134\n",
      "Average no. of words : 12.80\n"
     ]
    }
   ],
   "source": [
    "print(\"Maximum no. of words : \",maximum)\n",
    "print(\"Average no. of words : {:.2f}\".format(mean))"
   ]
  },
  {
   "cell_type": "code",
   "execution_count": 11,
   "metadata": {
    "execution": {
     "iopub.execute_input": "2020-12-09T09:58:39.928419Z",
     "iopub.status.busy": "2020-12-09T09:58:39.927312Z",
     "iopub.status.idle": "2020-12-09T09:58:39.969681Z",
     "shell.execute_reply": "2020-12-09T09:58:39.969131Z"
    },
    "papermill": {
     "duration": 0.081221,
     "end_time": "2020-12-09T09:58:39.969782",
     "exception": false,
     "start_time": "2020-12-09T09:58:39.888561",
     "status": "completed"
    },
    "tags": []
   },
   "outputs": [
    {
     "data": {
      "text/plain": [
       "0.25     8.0\n",
       "0.50    11.0\n",
       "0.75    15.0\n",
       "0.99    39.0\n",
       "Name: num_words, dtype: float64"
      ]
     },
     "execution_count": 11,
     "metadata": {},
     "output_type": "execute_result"
    }
   ],
   "source": [
    "train['num_words'].quantile([0.25,0.5,0.75,0.99])"
   ]
  },
  {
   "cell_type": "code",
   "execution_count": 12,
   "metadata": {
    "execution": {
     "iopub.execute_input": "2020-12-09T09:58:40.045240Z",
     "iopub.status.busy": "2020-12-09T09:58:40.044244Z",
     "iopub.status.idle": "2020-12-09T09:58:45.507750Z",
     "shell.execute_reply": "2020-12-09T09:58:45.506506Z"
    },
    "papermill": {
     "duration": 5.503818,
     "end_time": "2020-12-09T09:58:45.507870",
     "exception": false,
     "start_time": "2020-12-09T09:58:40.004052",
     "status": "completed"
    },
    "tags": []
   },
   "outputs": [],
   "source": [
    "# Number of unique words in sentences of the text \n",
    "train['num_unique_words'] = train['question_text'].apply(lambda x: len(set(str(x).split()))) #set only holds unique\n",
    "test['num_unique_words'] = test['question_text'].apply(lambda x: len(set(str(x).split())))   # values"
   ]
  },
  {
   "cell_type": "code",
   "execution_count": 13,
   "metadata": {
    "execution": {
     "iopub.execute_input": "2020-12-09T09:58:45.581859Z",
     "iopub.status.busy": "2020-12-09T09:58:45.580972Z",
     "iopub.status.idle": "2020-12-09T09:58:45.588091Z",
     "shell.execute_reply": "2020-12-09T09:58:45.587425Z"
    },
    "papermill": {
     "duration": 0.045596,
     "end_time": "2020-12-09T09:58:45.588196",
     "exception": false,
     "start_time": "2020-12-09T09:58:45.542600",
     "status": "completed"
    },
    "tags": []
   },
   "outputs": [],
   "source": [
    "maximum_unique,mean_unique = train['num_unique_words'].max(),train['num_unique_words'].mean()"
   ]
  },
  {
   "cell_type": "code",
   "execution_count": 14,
   "metadata": {
    "execution": {
     "iopub.execute_input": "2020-12-09T09:58:45.664593Z",
     "iopub.status.busy": "2020-12-09T09:58:45.663938Z",
     "iopub.status.idle": "2020-12-09T09:58:45.667159Z",
     "shell.execute_reply": "2020-12-09T09:58:45.665126Z"
    },
    "papermill": {
     "duration": 0.044528,
     "end_time": "2020-12-09T09:58:45.667328",
     "exception": false,
     "start_time": "2020-12-09T09:58:45.622800",
     "status": "completed"
    },
    "tags": []
   },
   "outputs": [
    {
     "name": "stdout",
     "output_type": "stream",
     "text": [
      "Maximum no. of words :  96\n",
      "Average no. of words : 12.14\n"
     ]
    }
   ],
   "source": [
    "print(\"Maximum no. of words : \",maximum_unique)\n",
    "print(\"Average no. of words : {:.2f}\".format(mean_unique))"
   ]
  },
  {
   "cell_type": "code",
   "execution_count": 15,
   "metadata": {
    "execution": {
     "iopub.execute_input": "2020-12-09T09:58:45.745080Z",
     "iopub.status.busy": "2020-12-09T09:58:45.743850Z",
     "iopub.status.idle": "2020-12-09T09:58:45.782103Z",
     "shell.execute_reply": "2020-12-09T09:58:45.781551Z"
    },
    "papermill": {
     "duration": 0.079478,
     "end_time": "2020-12-09T09:58:45.782216",
     "exception": false,
     "start_time": "2020-12-09T09:58:45.702738",
     "status": "completed"
    },
    "tags": []
   },
   "outputs": [
    {
     "data": {
      "text/plain": [
       "0.25     8.0\n",
       "0.50    11.0\n",
       "0.75    15.0\n",
       "0.99    34.0\n",
       "Name: num_unique_words, dtype: float64"
      ]
     },
     "execution_count": 15,
     "metadata": {},
     "output_type": "execute_result"
    }
   ],
   "source": [
    "train['num_unique_words'].quantile([0.25,0.5,0.75,0.99])"
   ]
  },
  {
   "cell_type": "code",
   "execution_count": 16,
   "metadata": {
    "execution": {
     "iopub.execute_input": "2020-12-09T09:58:45.863716Z",
     "iopub.status.busy": "2020-12-09T09:58:45.862703Z",
     "iopub.status.idle": "2020-12-09T09:58:45.917005Z",
     "shell.execute_reply": "2020-12-09T09:58:45.916297Z"
    },
    "papermill": {
     "duration": 0.097132,
     "end_time": "2020-12-09T09:58:45.917132",
     "exception": false,
     "start_time": "2020-12-09T09:58:45.820000",
     "status": "completed"
    },
    "tags": []
   },
   "outputs": [],
   "source": [
    "#Truncating the no. of words since that large a number is very rare in the dataset\n",
    "train['num_words'].loc[train['num_words']>50] = 50 \n",
    "train['num_unique_words'].loc[train['num_unique_words']>50] = 50"
   ]
  },
  {
   "cell_type": "code",
   "execution_count": 17,
   "metadata": {
    "execution": {
     "iopub.execute_input": "2020-12-09T09:58:46.016757Z",
     "iopub.status.busy": "2020-12-09T09:58:46.015965Z",
     "iopub.status.idle": "2020-12-09T09:58:46.854436Z",
     "shell.execute_reply": "2020-12-09T09:58:46.854993Z"
    },
    "papermill": {
     "duration": 0.90213,
     "end_time": "2020-12-09T09:58:46.855138",
     "exception": false,
     "start_time": "2020-12-09T09:58:45.953008",
     "status": "completed"
    },
    "tags": []
   },
   "outputs": [
    {
     "data": {
      "text/plain": [
       "Text(0.5, 1.0, 'Number of unique words in each class')"
      ]
     },
     "execution_count": 17,
     "metadata": {},
     "output_type": "execute_result"
    },
    {
     "data": {
      "image/png": "[encoded data removed]",
      "text/plain": [
       "<Figure size 720x720 with 2 Axes>"
      ]
     },
     "metadata": {},
     "output_type": "display_data"
    }
   ],
   "source": [
    "f,axes = plt.subplots(2,1,figsize = (10,10))\n",
    "\n",
    "sns.boxplot(x = 'target', y = 'num_words', data = train, ax = axes[0])\n",
    "axes[0].set_xlabel('Target', fontsize = 10)\n",
    "axes[0].set_title('Number of words in each class', fontsize = 12)\n",
    "\n",
    "sns.boxplot(x = 'target', y = 'num_unique_words', data = train, ax = axes[1])\n",
    "axes[1].set_xlabel('Target', fontsize = 10)\n",
    "axes[1].set_title('Number of unique words in each class', fontsize = 12)\n"
   ]
  },
  {
   "cell_type": "markdown",
   "metadata": {
    "papermill": {
     "duration": 0.039498,
     "end_time": "2020-12-09T09:58:46.937791",
     "exception": false,
     "start_time": "2020-12-09T09:58:46.898293",
     "status": "completed"
    },
    "tags": []
   },
   "source": [
    "Ideas around Visualization using plotly have been taken from this amazing [kernel](https://www.kaggle.com/sudalairajkumar/simple-exploration-notebook-qiqc) by Sudalai Rajakumar(@srk)"
   ]
  },
  {
   "cell_type": "markdown",
   "metadata": {
    "papermill": {
     "duration": 0.038623,
     "end_time": "2020-12-09T09:58:47.015152",
     "exception": false,
     "start_time": "2020-12-09T09:58:46.976529",
     "status": "completed"
    },
    "tags": []
   },
   "source": [
    "# Model Building"
   ]
  },
  {
   "cell_type": "code",
   "execution_count": 18,
   "metadata": {
    "execution": {
     "iopub.execute_input": "2020-12-09T09:58:47.103308Z",
     "iopub.status.busy": "2020-12-09T09:58:47.102593Z",
     "iopub.status.idle": "2020-12-09T09:58:53.135545Z",
     "shell.execute_reply": "2020-12-09T09:58:53.134381Z"
    },
    "papermill": {
     "duration": 6.080177,
     "end_time": "2020-12-09T09:58:53.135671",
     "exception": false,
     "start_time": "2020-12-09T09:58:47.055494",
     "status": "completed"
    },
    "tags": []
   },
   "outputs": [],
   "source": [
    "from tqdm import tqdm\n",
    "import math\n",
    "from sklearn.model_selection import train_test_split\n",
    "from sklearn import metrics\n",
    "\n",
    "from keras.preprocessing.text import Tokenizer\n",
    "from keras.preprocessing.sequence import pad_sequences\n",
    "from keras.layers import Input, Embedding, Dense, Activation, GRU, Conv1D, Activation, Dropout, Bidirectional, GlobalMaxPool1D\n",
    "from keras.models import Model\n",
    "from keras import initializers, regularizers, constraints, optimizers, layers"
   ]
  },
  {
   "cell_type": "code",
   "execution_count": 19,
   "metadata": {
    "execution": {
     "iopub.execute_input": "2020-12-09T09:58:53.232035Z",
     "iopub.status.busy": "2020-12-09T09:58:53.231060Z",
     "iopub.status.idle": "2020-12-09T09:58:53.560418Z",
     "shell.execute_reply": "2020-12-09T09:58:53.559793Z"
    },
    "papermill": {
     "duration": 0.375643,
     "end_time": "2020-12-09T09:58:53.560564",
     "exception": false,
     "start_time": "2020-12-09T09:58:53.184921",
     "status": "completed"
    },
    "tags": []
   },
   "outputs": [],
   "source": [
    "# 85-15 train, validation split\n",
    "train_df, val_df = train_test_split(train, test_size=0.15, random_state=1000)"
   ]
  },
  {
   "cell_type": "code",
   "execution_count": 20,
   "metadata": {
    "execution": {
     "iopub.execute_input": "2020-12-09T09:58:53.642471Z",
     "iopub.status.busy": "2020-12-09T09:58:53.640616Z",
     "iopub.status.idle": "2020-12-09T09:58:53.643165Z",
     "shell.execute_reply": "2020-12-09T09:58:53.643698Z"
    },
    "papermill": {
     "duration": 0.045477,
     "end_time": "2020-12-09T09:58:53.643815",
     "exception": false,
     "start_time": "2020-12-09T09:58:53.598338",
     "status": "completed"
    },
    "tags": []
   },
   "outputs": [],
   "source": [
    "# size of every word vector\n",
    "embed_size = 300\n",
    "\n",
    "# number of unique words to use \n",
    "max_features = 50000\n",
    "\n",
    "# maximum number of words in a question. This will be our input size\n",
    "maxlen = 100"
   ]
  },
  {
   "cell_type": "code",
   "execution_count": 21,
   "metadata": {
    "execution": {
     "iopub.execute_input": "2020-12-09T09:58:53.926829Z",
     "iopub.status.busy": "2020-12-09T09:58:53.925781Z",
     "iopub.status.idle": "2020-12-09T09:58:54.047825Z",
     "shell.execute_reply": "2020-12-09T09:58:54.047186Z"
    },
    "papermill": {
     "duration": 0.365412,
     "end_time": "2020-12-09T09:58:54.047946",
     "exception": false,
     "start_time": "2020-12-09T09:58:53.682534",
     "status": "completed"
    },
    "tags": []
   },
   "outputs": [],
   "source": [
    "# Filling missing values in the text columns if any\n",
    "train_X = train_df['question_text'].fillna(\"_na_\").values\n",
    "val_X = val_df['question_text'].fillna(\"_na_\").values\n",
    "test_X = test['question_text'].fillna(\"_na_\").values"
   ]
  },
  {
   "cell_type": "code",
   "execution_count": 22,
   "metadata": {
    "execution": {
     "iopub.execute_input": "2020-12-09T09:58:54.293148Z",
     "iopub.status.busy": "2020-12-09T09:58:54.272699Z",
     "iopub.status.idle": "2020-12-09T09:59:21.703659Z",
     "shell.execute_reply": "2020-12-09T09:59:21.702146Z"
    },
    "papermill": {
     "duration": 27.61818,
     "end_time": "2020-12-09T09:59:21.703783",
     "exception": false,
     "start_time": "2020-12-09T09:58:54.085603",
     "status": "completed"
    },
    "tags": []
   },
   "outputs": [],
   "source": [
    "# Tokenizing words in our sentences using keras tokenizer\n",
    "tokenizer = Tokenizer(num_words = max_features)\n",
    "tokenizer.fit_on_texts(list(train_X))"
   ]
  },
  {
   "cell_type": "code",
   "execution_count": 23,
   "metadata": {
    "execution": {
     "iopub.execute_input": "2020-12-09T09:59:21.814776Z",
     "iopub.status.busy": "2020-12-09T09:59:21.799483Z",
     "iopub.status.idle": "2020-12-09T09:59:59.547435Z",
     "shell.execute_reply": "2020-12-09T09:59:59.546495Z"
    },
    "papermill": {
     "duration": 37.80485,
     "end_time": "2020-12-09T09:59:59.547570",
     "exception": false,
     "start_time": "2020-12-09T09:59:21.742720",
     "status": "completed"
    },
    "tags": []
   },
   "outputs": [],
   "source": [
    "# converting each text in the dataset to a sequence of integers\n",
    "train_X = tokenizer.texts_to_sequences(train_X)\n",
    "val_X = tokenizer.texts_to_sequences(val_X)\n",
    "test_X = tokenizer.texts_to_sequences(test_X)"
   ]
  },
  {
   "cell_type": "code",
   "execution_count": 24,
   "metadata": {
    "execution": {
     "iopub.execute_input": "2020-12-09T09:59:59.662988Z",
     "iopub.status.busy": "2020-12-09T09:59:59.647582Z",
     "iopub.status.idle": "2020-12-09T10:00:15.655511Z",
     "shell.execute_reply": "2020-12-09T10:00:15.654250Z"
    },
    "papermill": {
     "duration": 16.068732,
     "end_time": "2020-12-09T10:00:15.655649",
     "exception": false,
     "start_time": "2020-12-09T09:59:59.586917",
     "status": "completed"
    },
    "tags": []
   },
   "outputs": [],
   "source": [
    "# Padding sequences \n",
    "# Rememeber : The maximum length of our input can not be greater than 100 so we need to pad the incoming sequences at 100\n",
    "\n",
    "train_X = pad_sequences(train_X, maxlen = maxlen)\n",
    "val_X = pad_sequences(val_X, maxlen = maxlen)\n",
    "test_X = pad_sequences(test_X, maxlen = maxlen)"
   ]
  },
  {
   "cell_type": "code",
   "execution_count": 25,
   "metadata": {
    "execution": {
     "iopub.execute_input": "2020-12-09T10:00:15.742677Z",
     "iopub.status.busy": "2020-12-09T10:00:15.740621Z",
     "iopub.status.idle": "2020-12-09T10:00:15.743418Z",
     "shell.execute_reply": "2020-12-09T10:00:15.744007Z"
    },
    "papermill": {
     "duration": 0.048285,
     "end_time": "2020-12-09T10:00:15.744140",
     "exception": false,
     "start_time": "2020-12-09T10:00:15.695855",
     "status": "completed"
    },
    "tags": []
   },
   "outputs": [],
   "source": [
    "#Target values\n",
    "train_y = train_df['target'].values\n",
    "val_y = val_df['target'].values"
   ]
  },
  {
   "cell_type": "markdown",
   "metadata": {
    "papermill": {
     "duration": 0.039356,
     "end_time": "2020-12-09T10:00:15.824074",
     "exception": false,
     "start_time": "2020-12-09T10:00:15.784718",
     "status": "completed"
    },
    "tags": []
   },
   "source": [
    "### GloVe "
   ]
  },
  {
   "cell_type": "code",
   "execution_count": 26,
   "metadata": {
    "execution": {
     "iopub.execute_input": "2020-12-09T10:00:15.908314Z",
     "iopub.status.busy": "2020-12-09T10:00:15.907486Z",
     "iopub.status.idle": "2020-12-09T10:00:15.910566Z",
     "shell.execute_reply": "2020-12-09T10:00:15.910076Z"
    },
    "papermill": {
     "duration": 0.048064,
     "end_time": "2020-12-09T10:00:15.910668",
     "exception": false,
     "start_time": "2020-12-09T10:00:15.862604",
     "status": "completed"
    },
    "tags": []
   },
   "outputs": [],
   "source": [
    "embeddings = 'glove.840B.300d/glove.840B.300d.txt'\n",
    "\n",
    "def get_coefs(word,*arr):\n",
    "    return word, np.asarray(arr, dtype = 'float32')"
   ]
  },
  {
   "cell_type": "code",
   "execution_count": 27,
   "metadata": {
    "execution": {
     "iopub.execute_input": "2020-12-09T10:00:15.991577Z",
     "iopub.status.busy": "2020-12-09T10:00:15.990888Z",
     "iopub.status.idle": "2020-12-09T10:05:29.956737Z",
     "shell.execute_reply": "2020-12-09T10:05:29.955571Z"
    },
    "papermill": {
     "duration": 314.008297,
     "end_time": "2020-12-09T10:05:29.956873",
     "exception": false,
     "start_time": "2020-12-09T10:00:15.948576",
     "status": "completed"
    },
    "tags": []
   },
   "outputs": [],
   "source": [
    "embeddings_index = dict(get_coefs(*o.split(\" \")) for o in open(embeddings))"
   ]
  },
  {
   "cell_type": "code",
   "execution_count": 28,
   "metadata": {
    "execution": {
     "iopub.execute_input": "2020-12-09T10:05:30.075026Z",
     "iopub.status.busy": "2020-12-09T10:05:30.054512Z",
     "iopub.status.idle": "2020-12-09T10:05:40.886721Z",
     "shell.execute_reply": "2020-12-09T10:05:40.885931Z"
    },
    "papermill": {
     "duration": 10.888389,
     "end_time": "2020-12-09T10:05:40.886912",
     "exception": false,
     "start_time": "2020-12-09T10:05:29.998523",
     "status": "completed"
    },
    "tags": []
   },
   "outputs": [
    {
     "name": "stderr",
     "output_type": "stream",
     "text": [
      "/opt/conda/lib/python3.7/site-packages/IPython/core/interactiveshell.py:3254: FutureWarning:\n",
      "\n",
      "arrays to stack must be passed as a \"sequence\" type such as list or tuple. Support for non-sequence iterables such as generators is deprecated as of NumPy 1.16 and will raise an error in the future.\n",
      "\n"
     ]
    }
   ],
   "source": [
    "embs = np.stack(embeddings_index.values())\n",
    "embs_mean,embs_std = embs.mean(),embs.std()\n",
    "embs_shape = embs.shape[1]"
   ]
  },
  {
   "cell_type": "code",
   "execution_count": 29,
   "metadata": {
    "execution": {
     "iopub.execute_input": "2020-12-09T10:05:41.004495Z",
     "iopub.status.busy": "2020-12-09T10:05:41.003599Z",
     "iopub.status.idle": "2020-12-09T10:05:41.616359Z",
     "shell.execute_reply": "2020-12-09T10:05:41.615788Z"
    },
    "papermill": {
     "duration": 0.688229,
     "end_time": "2020-12-09T10:05:41.616486",
     "exception": false,
     "start_time": "2020-12-09T10:05:40.928257",
     "status": "completed"
    },
    "tags": []
   },
   "outputs": [],
   "source": [
    "word_index = tokenizer.word_index #dictionary of tokens of words in our input text\n",
    "nb_words = min(max_features,len(word_index)) #number of words\n",
    "embedding_matrix = np.random.normal(embs_mean, embs_std, (nb_words,embed_size)) #emedding matrix of shape(50000,300)"
   ]
  },
  {
   "cell_type": "code",
   "execution_count": 30,
   "metadata": {
    "execution": {
     "iopub.execute_input": "2020-12-09T10:05:41.749040Z",
     "iopub.status.busy": "2020-12-09T10:05:41.736788Z",
     "iopub.status.idle": "2020-12-09T10:05:41.751993Z",
     "shell.execute_reply": "2020-12-09T10:05:41.751485Z"
    },
    "papermill": {
     "duration": 0.095079,
     "end_time": "2020-12-09T10:05:41.752100",
     "exception": false,
     "start_time": "2020-12-09T10:05:41.657021",
     "status": "completed"
    },
    "tags": []
   },
   "outputs": [],
   "source": [
    "for word,i in word_index.items():\n",
    "    if i >= max_features:\n",
    "        continue\n",
    "        embeddings_vector = embeddings_index.get(word)\n",
    "        if embedding_vector is not None:\n",
    "            embedding_matrix[i] = embeddings_vector"
   ]
  },
  {
   "cell_type": "markdown",
   "metadata": {
    "papermill": {
     "duration": 0.040311,
     "end_time": "2020-12-09T10:05:41.838028",
     "exception": false,
     "start_time": "2020-12-09T10:05:41.797717",
     "status": "completed"
    },
    "tags": []
   },
   "source": [
    "### Building the Network"
   ]
  },
  {
   "cell_type": "code",
   "execution_count": 31,
   "metadata": {
    "execution": {
     "iopub.execute_input": "2020-12-09T10:05:41.929022Z",
     "iopub.status.busy": "2020-12-09T10:05:41.928319Z",
     "iopub.status.idle": "2020-12-09T10:05:45.786390Z",
     "shell.execute_reply": "2020-12-09T10:05:45.787044Z"
    },
    "papermill": {
     "duration": 3.90682,
     "end_time": "2020-12-09T10:05:45.787176",
     "exception": false,
     "start_time": "2020-12-09T10:05:41.880356",
     "status": "completed"
    },
    "tags": []
   },
   "outputs": [
    {
     "name": "stdout",
     "output_type": "stream",
     "text": [
      "Model: \"functional_1\"\n",
      "_________________________________________________________________\n",
      "Layer (type)                 Output Shape              Param #   \n",
      "=================================================================\n",
      "input_1 (InputLayer)         [(None, 100)]             0         \n",
      "_________________________________________________________________\n",
      "embedding (Embedding)        (None, 100, 300)          15000000  \n",
      "_________________________________________________________________\n",
      "bidirectional (Bidirectional (None, 100, 128)          140544    \n",
      "_________________________________________________________________\n",
      "global_max_pooling1d (Global (None, 128)               0         \n",
      "_________________________________________________________________\n",
      "dense (Dense)                (None, 16)                2064      \n",
      "_________________________________________________________________\n",
      "dropout (Dropout)            (None, 16)                0         \n",
      "_________________________________________________________________\n",
      "dense_1 (Dense)              (None, 1)                 17        \n",
      "=================================================================\n",
      "Total params: 15,142,625\n",
      "Trainable params: 15,142,625\n",
      "Non-trainable params: 0\n",
      "_________________________________________________________________\n",
      "None\n"
     ]
    }
   ],
   "source": [
    "inp = Input(shape = (maxlen,)) #input layer\n",
    "x = Embedding(max_features,embed_size,weights = [embedding_matrix])(inp) #embedding layer\n",
    "x = Bidirectional(GRU(64, return_sequences = True))(x) #bidirectional GRU layer\n",
    "x = GlobalMaxPool1D()(x) #layer that yields the maximum input as the output \n",
    "x = Dense(16, activation = 'relu')(x) #dense layer with relu activation\n",
    "x = Dropout(0.1)(x)\n",
    "x = Dense(1, activation = 'sigmoid')(x) #dense layer with sigmoid activation\n",
    "model = Model(inputs = inp, outputs = x)\n",
    "model.compile(loss = 'binary_crossentropy', optimizer = 'adam', metrics = 'accuracy')\n",
    "print(model.summary())"
   ]
  },
  {
   "cell_type": "markdown",
   "metadata": {
    "papermill": {
     "duration": 0.043786,
     "end_time": "2020-12-09T10:05:45.875088",
     "exception": false,
     "start_time": "2020-12-09T10:05:45.831302",
     "status": "completed"
    },
    "tags": []
   },
   "source": [
    "Details on the binary cross entropy and thresholds in this [paper](https://arxiv.org/abs/1402.1892)."
   ]
  },
  {
   "cell_type": "code",
   "execution_count": 32,
   "metadata": {
    "execution": {
     "iopub.execute_input": "2020-12-09T10:05:45.965858Z",
     "iopub.status.busy": "2020-12-09T10:05:45.965055Z",
     "iopub.status.idle": "2020-12-09T10:36:30.261388Z",
     "shell.execute_reply": "2020-12-09T10:36:30.261951Z"
    },
    "papermill": {
     "duration": 1844.344727,
     "end_time": "2020-12-09T10:36:30.262140",
     "exception": false,
     "start_time": "2020-12-09T10:05:45.917413",
     "status": "completed"
    },
    "tags": []
   },
   "outputs": [
    {
     "name": "stdout",
     "output_type": "stream",
     "text": [
      "Epoch 1/5\n",
      "1085/1085 [==============================] - 370s 341ms/step - loss: 0.1322 - accuracy: 0.9505 - val_loss: 0.1114 - val_accuracy: 0.9557\n",
      "Epoch 2/5\n",
      "1085/1085 [==============================] - 365s 336ms/step - loss: 0.1038 - accuracy: 0.9586 - val_loss: 0.1076 - val_accuracy: 0.9571\n",
      "Epoch 3/5\n",
      "1085/1085 [==============================] - 364s 336ms/step - loss: 0.0938 - accuracy: 0.9623 - val_loss: 0.1103 - val_accuracy: 0.9571\n",
      "Epoch 4/5\n",
      "1085/1085 [==============================] - 365s 336ms/step - loss: 0.0832 - accuracy: 0.9666 - val_loss: 0.1108 - val_accuracy: 0.9562\n",
      "Epoch 5/5\n",
      "1085/1085 [==============================] - 372s 343ms/step - loss: 0.0702 - accuracy: 0.9721 - val_loss: 0.1232 - val_accuracy: 0.9560\n"
     ]
    },
    {
     "data": {
      "text/plain": [
       "<tensorflow.python.keras.callbacks.History at 0x7f6084098290>"
      ]
     },
     "execution_count": 32,
     "metadata": {},
     "output_type": "execute_result"
    }
   ],
   "source": [
    "# Training the model in batch sizes of 1024 for 5 iterations\n",
    "model.fit(train_X, train_y, batch_size=1024, epochs=5, validation_data=(val_X, val_y))"
   ]
  },
  {
   "cell_type": "code",
   "execution_count": 33,
   "metadata": {
    "execution": {
     "iopub.execute_input": "2020-12-09T10:36:34.133952Z",
     "iopub.status.busy": "2020-12-09T10:36:34.132933Z",
     "iopub.status.idle": "2020-12-09T10:36:44.746084Z",
     "shell.execute_reply": "2020-12-09T10:36:44.746792Z"
    },
    "papermill": {
     "duration": 12.577966,
     "end_time": "2020-12-09T10:36:44.746987",
     "exception": false,
     "start_time": "2020-12-09T10:36:32.169021",
     "status": "completed"
    },
    "tags": []
   },
   "outputs": [
    {
     "name": "stdout",
     "output_type": "stream",
     "text": [
      "192/192 [==============================] - 7s 39ms/step\n",
      "F1 score at threshold 0.1 is 0.6056338028169015\n",
      "F1 score at threshold 0.11 is 0.6105462582886012\n",
      "F1 score at threshold 0.12 is 0.6144968422402461\n",
      "F1 score at threshold 0.13 is 0.6185607294041029\n",
      "F1 score at threshold 0.14 is 0.6216091347105801\n",
      "F1 score at threshold 0.15 is 0.6229157616867711\n",
      "F1 score at threshold 0.16 is 0.6252492817306068\n",
      "F1 score at threshold 0.17 is 0.6262785208497247\n",
      "F1 score at threshold 0.18 is 0.6281763180639586\n",
      "F1 score at threshold 0.19 is 0.6311449634883478\n",
      "F1 score at threshold 0.2 is 0.6327049353950435\n",
      "F1 score at threshold 0.21 is 0.6333190822288728\n",
      "F1 score at threshold 0.22 is 0.6352848101265822\n",
      "F1 score at threshold 0.23 is 0.6363999274178915\n",
      "F1 score at threshold 0.24 is 0.6375728262064416\n",
      "F1 score at threshold 0.25 is 0.6375933180575061\n",
      "F1 score at threshold 0.26 is 0.6388382051759448\n",
      "F1 score at threshold 0.27 is 0.639702847709451\n",
      "F1 score at threshold 0.28 is 0.6404575237662388\n",
      "F1 score at threshold 0.29 is 0.6400733608436496\n",
      "F1 score at threshold 0.3 is 0.6401354784081287\n",
      "F1 score at threshold 0.31 is 0.6396246170551054\n",
      "F1 score at threshold 0.32 is 0.6397435396223464\n",
      "F1 score at threshold 0.33 is 0.6389544953550622\n",
      "F1 score at threshold 0.34 is 0.6387048133010594\n",
      "F1 score at threshold 0.35 is 0.6379765044353871\n",
      "F1 score at threshold 0.36 is 0.6371240147981341\n",
      "F1 score at threshold 0.37 is 0.635884973673552\n",
      "F1 score at threshold 0.38 is 0.6346577465937832\n",
      "F1 score at threshold 0.39 is 0.6333689312412717\n",
      "F1 score at threshold 0.4 is 0.6318531381791118\n",
      "F1 score at threshold 0.41 is 0.6307371928363181\n",
      "F1 score at threshold 0.42 is 0.629688680036922\n",
      "F1 score at threshold 0.43 is 0.6296577946768062\n",
      "F1 score at threshold 0.44 is 0.6281603813739679\n",
      "F1 score at threshold 0.45 is 0.6263015811801004\n",
      "F1 score at threshold 0.46 is 0.6237858838765379\n",
      "F1 score at threshold 0.47 is 0.6223536060513847\n",
      "F1 score at threshold 0.48 is 0.6214204396181802\n",
      "F1 score at threshold 0.49 is 0.6191904047976012\n",
      "F1 score at threshold 0.5 is 0.6166081663482472\n"
     ]
    }
   ],
   "source": [
    "pred_glove_val_y = model.predict([val_X], batch_size=1024, verbose=1)\n",
    "for thresh in np.arange(0.1, 0.501, 0.01):\n",
    "    thresh = np.round(thresh, 2)\n",
    "    print(\"F1 score at threshold {0} is {1}\".format(thresh, metrics.f1_score(val_y, (pred_glove_val_y>thresh).astype(int))))"
   ]
  },
  {
   "cell_type": "code",
   "execution_count": 34,
   "metadata": {
    "execution": {
     "iopub.execute_input": "2020-12-09T10:36:48.900217Z",
     "iopub.status.busy": "2020-12-09T10:36:48.899191Z",
     "iopub.status.idle": "2020-12-09T10:37:03.753352Z",
     "shell.execute_reply": "2020-12-09T10:37:03.752213Z"
    },
    "papermill": {
     "duration": 16.824834,
     "end_time": "2020-12-09T10:37:03.753511",
     "exception": false,
     "start_time": "2020-12-09T10:36:46.928677",
     "status": "completed"
    },
    "tags": []
   },
   "outputs": [
    {
     "name": "stdout",
     "output_type": "stream",
     "text": [
      "367/367 [==============================] - 15s 40ms/step\n"
     ]
    }
   ],
   "source": [
    "pred_glove_test_y = model.predict([test_X], batch_size=1024, verbose=1)"
   ]
  }
 ],
 "metadata": {
  "kernelspec": {
   "display_name": "Python 3",
   "language": "python",
   "name": "python3"
  },
  "language_info": {
   "codemirror_mode": {
    "name": "ipython",
    "version": 3
   },
   "file_extension": ".py",
   "mimetype": "text/x-python",
   "name": "python",
   "nbconvert_exporter": "python",
   "pygments_lexer": "ipython3",
   "version": "3.7.6"
  },
  "papermill": {
   "duration": 2570.675166,
   "end_time": "2020-12-09T10:37:08.276631",
   "environment_variables": {},
   "exception": null,
   "input_path": "__notebook__.ipynb",
   "output_path": "__notebook__.ipynb",
   "parameters": {},
   "start_time": "2020-12-09T09:54:17.601465",
   "version": "2.1.0"
  }
 },
 "nbformat": 4,
 "nbformat_minor": 4
}
