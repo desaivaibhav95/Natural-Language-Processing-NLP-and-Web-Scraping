{
 "cells": [
  {
   "cell_type": "markdown",
   "metadata": {},
   "source": [
    "Importing libraries"
   ]
  },
  {
   "cell_type": "code",
   "execution_count": 342,
   "metadata": {},
   "outputs": [],
   "source": [
    "#Library for html requests\n",
    "import requests\n",
    "\n",
    "#Library for web scraping\n",
    "import bs4 \n",
    "\n",
    "# Library for converting scraped data in a dataframe \n",
    "import pandas as pd\n",
    "\n",
    "#Library for visualizing insights from scraped data \n",
    "import seaborn as sns\n",
    "sns.set()\n",
    "import matplotlib.pyplot as plt\n",
    "\n",
    "#to build plots using matplotlib in jupyter notebooks \n",
    "%matplotlib inline"
   ]
  },
  {
   "cell_type": "markdown",
   "metadata": {},
   "source": [
    "Setting up the urls.\n",
    "\n",
    "Scraping data regarding the genres, top 50 songs and new songs"
   ]
  },
  {
   "cell_type": "code",
   "execution_count": 303,
   "metadata": {},
   "outputs": [],
   "source": [
    "url_1 = \"http://soundcloud.com/charts\"\n",
    "url_2 = \"https://soundcloud.com/charts/top\"\n",
    "url_3 = \"https://soundcloud.com/charts/new\""
   ]
  },
  {
   "cell_type": "markdown",
   "metadata": {},
   "source": [
    "# Part- 1"
   ]
  },
  {
   "cell_type": "markdown",
   "metadata": {},
   "source": [
    "Using the request library for requests and beaustiful soup library for parsing the html requests "
   ]
  },
  {
   "cell_type": "code",
   "execution_count": 41,
   "metadata": {},
   "outputs": [],
   "source": [
    "request_1 = requests.get(url_1)\n",
    "soup_1 = bs4.BeautifulSoup(request_1.text)"
   ]
  },
  {
   "cell_type": "code",
   "execution_count": 375,
   "metadata": {},
   "outputs": [],
   "source": [
    "#print(request_.text)"
   ]
  },
  {
   "cell_type": "markdown",
   "metadata": {},
   "source": [
    "Scrutinizing for the data needed using the surrounding tags in the html and listing out the result"
   ]
  },
  {
   "cell_type": "code",
   "execution_count": 71,
   "metadata": {},
   "outputs": [
    {
     "name": "stdout",
     "output_type": "stream",
     "text": [
      "0:Alternative Rock\n",
      "1:Ambient\n",
      "2:Classical\n",
      "3:Country\n",
      "4:Dance & EDM\n",
      "5:Dancehall\n",
      "6:Deep House\n",
      "7:Disco\n",
      "8:Drum & Bass\n",
      "9:Dubstep\n",
      "10:Electronic\n",
      "11:Folk & Singer-Songwriter\n",
      "12:Hip-hop & Rap\n",
      "13:House\n",
      "14:Indie\n",
      "15:Jazz & Blues\n",
      "16:Latin\n",
      "17:Metal\n",
      "18:Piano\n",
      "19:Pop\n",
      "20:R&B & Soul\n",
      "21:Reggae\n",
      "22:Reggaeton\n",
      "23:Rock\n",
      "24:Soundtrack\n",
      "25:Techno\n",
      "26:Trance\n",
      "27:Trap\n",
      "28:Triphop\n",
      "29:World\n",
      "30:Audiobooks\n",
      "31:Business\n",
      "32:Comedy\n",
      "33:Entertainment\n",
      "34:Learning\n",
      "35:News & Politics\n",
      "36:Religion & Spirituality\n",
      "37:Science\n",
      "38:Sports\n",
      "39:Storytelling\n",
      "40:Technology\n"
     ]
    }
   ],
   "source": [
    "genres = soup_1.select('a[href*=genre]')[4:]\n",
    "\n",
    "\n",
    "for index, genre in  enumerate(genres):\n",
    "    print(str(index) + ':' + genre.text)"
   ]
  },
  {
   "cell_type": "markdown",
   "metadata": {},
   "source": [
    "# Part-2"
   ]
  },
  {
   "cell_type": "markdown",
   "metadata": {},
   "source": [
    "Requesting urls and parsing html using request and Beautiful Soup library"
   ]
  },
  {
   "cell_type": "code",
   "execution_count": 284,
   "metadata": {},
   "outputs": [],
   "source": [
    "request_2 = requests.get(url_2)\n",
    "soup_2 = bs4.BeautifulSoup(request_2.text)"
   ]
  },
  {
   "cell_type": "code",
   "execution_count": 374,
   "metadata": {},
   "outputs": [],
   "source": [
    "#print(request_2.text)"
   ]
  },
  {
   "cell_type": "markdown",
   "metadata": {},
   "source": [
    "Scrutinizing data using tags"
   ]
  },
  {
   "cell_type": "code",
   "execution_count": 286,
   "metadata": {},
   "outputs": [],
   "source": [
    "albums = soup_2.select('a')"
   ]
  },
  {
   "cell_type": "markdown",
   "metadata": {},
   "source": [
    "Slicing the list in order to remove unwanted data"
   ]
  },
  {
   "cell_type": "code",
   "execution_count": 377,
   "metadata": {},
   "outputs": [],
   "source": [
    "albums = albums[47:-7]\n",
    "#albums"
   ]
  },
  {
   "cell_type": "markdown",
   "metadata": {},
   "source": [
    "Chcking the format of data "
   ]
  },
  {
   "cell_type": "code",
   "execution_count": 288,
   "metadata": {},
   "outputs": [
    {
     "data": {
      "text/plain": [
       "<a href=\"/liltecca/lil-tecca-ransom-1\" itemprop=\"url\">Ransom</a>"
      ]
     },
     "execution_count": 288,
     "metadata": {},
     "output_type": "execute_result"
    }
   ],
   "source": [
    "line_1 = albums[0]\n",
    "line_1"
   ]
  },
  {
   "cell_type": "markdown",
   "metadata": {},
   "source": [
    "Getting the required part of the data"
   ]
  },
  {
   "cell_type": "code",
   "execution_count": 289,
   "metadata": {},
   "outputs": [
    {
     "data": {
      "text/plain": [
       "'Ransom'"
      ]
     },
     "execution_count": 289,
     "metadata": {},
     "output_type": "execute_result"
    }
   ],
   "source": [
    "line_1.contents[0]"
   ]
  },
  {
   "cell_type": "markdown",
   "metadata": {},
   "source": [
    "Getting the required data from the entire list in form of a list named top_songs"
   ]
  },
  {
   "cell_type": "code",
   "execution_count": 350,
   "metadata": {},
   "outputs": [],
   "source": [
    "top_songs = []\n",
    "for album in albums:\n",
    "    songs = album.contents[0]\n",
    "    top_songs.append(songs)"
   ]
  },
  {
   "cell_type": "markdown",
   "metadata": {},
   "source": [
    "Visualizing the list"
   ]
  },
  {
   "cell_type": "code",
   "execution_count": 378,
   "metadata": {},
   "outputs": [],
   "source": [
    "#top_songs"
   ]
  },
  {
   "cell_type": "markdown",
   "metadata": {},
   "source": [
    "The list contains songs and name of the artists as alternate entries. Thus, slicing the list into two lists\n",
    "\n",
    "1. Songs\n",
    "2. Artist"
   ]
  },
  {
   "cell_type": "code",
   "execution_count": 352,
   "metadata": {},
   "outputs": [],
   "source": [
    "songs = top_songs[::2]\n",
    "artists = top_songs[1::2]"
   ]
  },
  {
   "cell_type": "markdown",
   "metadata": {},
   "source": [
    "Putting the lists into a pandas dataframe"
   ]
  },
  {
   "cell_type": "code",
   "execution_count": 380,
   "metadata": {},
   "outputs": [],
   "source": [
    "top_50 = pd.DataFrame({'Song':songs,'Artist':artists})\n",
    "#top_50"
   ]
  },
  {
   "cell_type": "markdown",
   "metadata": {},
   "source": [
    "Unique artists in the list using the nunique method"
   ]
  },
  {
   "cell_type": "code",
   "execution_count": 354,
   "metadata": {},
   "outputs": [
    {
     "name": "stdout",
     "output_type": "stream",
     "text": [
      "Different artists : 36\n"
     ]
    }
   ],
   "source": [
    "print(\"Different artists : {}\".format(top_50['Artist'].nunique()))"
   ]
  },
  {
   "cell_type": "markdown",
   "metadata": {},
   "source": [
    "Artists with more than one song in the top 50 list"
   ]
  },
  {
   "cell_type": "code",
   "execution_count": 362,
   "metadata": {},
   "outputs": [
    {
     "data": {
      "text/plain": [
       "POLO G                    4\n",
       "Ynw Melly                 3\n",
       "NLE Choppa                3\n",
       "BTS                       2\n",
       "Lil Baby                  2\n",
       "Lil Tjay                  2\n",
       "Lil Nas X                 2\n",
       "A BOOGIE WIT DA HOODIE    2\n",
       "Lil Tecca â°             2\n",
       "LIL UZI VERT              2\n",
       "Quando Rondo              1\n",
       "Ambjaay                   1\n",
       "Name: Artist, dtype: int64"
      ]
     },
     "execution_count": 362,
     "metadata": {},
     "output_type": "execute_result"
    }
   ],
   "source": [
    "top_artists = top_50['Artist'].value_counts().sort_values(ascending = False).head(12)\n",
    "top_artists"
   ]
  },
  {
   "cell_type": "markdown",
   "metadata": {},
   "source": [
    "Artists with more than two songs in top 50"
   ]
  },
  {
   "cell_type": "code",
   "execution_count": 373,
   "metadata": {},
   "outputs": [
    {
     "data": {
      "text/plain": [
       "<matplotlib.axes._subplots.AxesSubplot at 0xd378a30>"
      ]
     },
     "execution_count": 373,
     "metadata": {},
     "output_type": "execute_result"
    },
    {
     "data": {
      "image/png": "[encoded data removed]",
      "text/plain": [
       "<Figure size 720x360 with 1 Axes>"
      ]
     },
     "metadata": {
      "needs_background": "light"
     },
     "output_type": "display_data"
    }
   ],
   "source": [
    "top_artists.head(3).plot(kind = 'bar', \n",
    "                         color = ['r','b','g'],\n",
    "                         figsize = (10,5),\n",
    "                        title = 'Artists with more than two songs featured in top 50')"
   ]
  },
  {
   "cell_type": "markdown",
   "metadata": {},
   "source": [
    "# Part - 3"
   ]
  },
  {
   "cell_type": "code",
   "execution_count": 304,
   "metadata": {},
   "outputs": [],
   "source": [
    "request_3 = requests.get(url_3)\n",
    "soup_3 = bs4.BeautifulSoup(request_3.text)"
   ]
  },
  {
   "cell_type": "code",
   "execution_count": 381,
   "metadata": {},
   "outputs": [],
   "source": [
    "#print(request_3.text)"
   ]
  },
  {
   "cell_type": "markdown",
   "metadata": {},
   "source": [
    "Scrutinizing the data using tags "
   ]
  },
  {
   "cell_type": "code",
   "execution_count": 382,
   "metadata": {},
   "outputs": [],
   "source": [
    "new = soup_3.select('a')[47:-7]\n",
    "#new"
   ]
  },
  {
   "cell_type": "markdown",
   "metadata": {},
   "source": [
    "Putting the scrutinized results into a list named new_songs"
   ]
  },
  {
   "cell_type": "code",
   "execution_count": 318,
   "metadata": {},
   "outputs": [],
   "source": [
    "new_songs = []\n",
    "for song in new:\n",
    "    songs = song.contents[0]\n",
    "    new_songs.append(songs)"
   ]
  },
  {
   "cell_type": "code",
   "execution_count": 383,
   "metadata": {},
   "outputs": [],
   "source": [
    "#new_songs"
   ]
  },
  {
   "cell_type": "markdown",
   "metadata": {},
   "source": [
    "Slicing the lists for new songs since it also contains both name of artists and songs"
   ]
  },
  {
   "cell_type": "code",
   "execution_count": 320,
   "metadata": {},
   "outputs": [],
   "source": [
    "songs = new_songs[::2] \n",
    "artists = new_songs[1::2]"
   ]
  },
  {
   "cell_type": "markdown",
   "metadata": {},
   "source": [
    "Putting the lists formed in form of a dataframe"
   ]
  },
  {
   "cell_type": "code",
   "execution_count": 384,
   "metadata": {},
   "outputs": [],
   "source": [
    "new = pd.DataFrame({'Song':songs,'Artist':artists})\n",
    "#new"
   ]
  },
  {
   "cell_type": "markdown",
   "metadata": {},
   "source": [
    "Unique number of artists in the list"
   ]
  },
  {
   "cell_type": "code",
   "execution_count": 367,
   "metadata": {},
   "outputs": [
    {
     "name": "stdout",
     "output_type": "stream",
     "text": [
      "Different artists in the list : 45\n"
     ]
    }
   ],
   "source": [
    "print(\"Different artists in the list : {}\".format(new['Artist'].nunique()))"
   ]
  },
  {
   "cell_type": "markdown",
   "metadata": {},
   "source": [
    "Artists with more than one song in the list"
   ]
  },
  {
   "cell_type": "code",
   "execution_count": 370,
   "metadata": {},
   "outputs": [
    {
     "data": {
      "text/plain": [
       "Lil Keed           4\n",
       "octobersveryown    2\n",
       "Drake              2\n",
       "Luh Kel            1\n",
       "mohamed arfat      1\n",
       "Name: Artist, dtype: int64"
      ]
     },
     "execution_count": 370,
     "metadata": {},
     "output_type": "execute_result"
    }
   ],
   "source": [
    "new['Artist'].value_counts().sort_values(ascending = False).head()"
   ]
  },
  {
   "cell_type": "markdown",
   "metadata": {},
   "source": [
    "Plotting the results for artists with more than one song in the list"
   ]
  },
  {
   "cell_type": "code",
   "execution_count": 371,
   "metadata": {},
   "outputs": [
    {
     "data": {
      "text/plain": [
       "<matplotlib.axes._subplots.AxesSubplot at 0xd3010b0>"
      ]
     },
     "execution_count": 371,
     "metadata": {},
     "output_type": "execute_result"
    },
    {
     "data": {
      "image/png": "[encoded data removed]",
      "text/plain": [
       "<Figure size 720x360 with 1 Axes>"
      ]
     },
     "metadata": {
      "needs_background": "light"
     },
     "output_type": "display_data"
    }
   ],
   "source": [
    "new['Artist'].value_counts().sort_values(ascending = False).head(3).plot(kind = 'bar',\n",
    "                                                                        color = ['r','y','c'],\n",
    "                                                                       title = 'Artists with more than one song in the list',\n",
    "                                                                       figsize = (10,5))"
   ]
  }
 ],
 "metadata": {
  "kernelspec": {
   "display_name": "Python 3",
   "language": "python",
   "name": "python3"
  },
  "language_info": {
   "codemirror_mode": {
    "name": "ipython",
    "version": 3
   },
   "file_extension": ".py",
   "mimetype": "text/x-python",
   "name": "python",
   "nbconvert_exporter": "python",
   "pygments_lexer": "ipython3",
   "version": "3.7.3"
  }
 },
 "nbformat": 4,
 "nbformat_minor": 2
}
